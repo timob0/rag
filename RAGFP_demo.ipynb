{
  "nbformat": 4,
  "nbformat_minor": 0,
  "metadata": {
    "colab": {
      "provenance": [],
      "mount_file_id": "https://github.com/timob0/rag/blob/main/RAGFP_demo.ipynb",
      "authorship_tag": "ABX9TyMebF06CP+36beoIqbMatHB",
      "include_colab_link": true
    },
    "kernelspec": {
      "name": "python3",
      "display_name": "Python 3"
    },
    "language_info": {
      "name": "python"
    },
    "widgets": {
      "application/vnd.jupyter.widget-state+json": {
        "99cfcfc9ea814d5caff4b289b61c4e08": {
          "model_module": "@jupyter-widgets/controls",
          "model_name": "HBoxModel",
          "model_module_version": "1.5.0",
          "state": {
            "_dom_classes": [],
            "_model_module": "@jupyter-widgets/controls",
            "_model_module_version": "1.5.0",
            "_model_name": "HBoxModel",
            "_view_count": null,
            "_view_module": "@jupyter-widgets/controls",
            "_view_module_version": "1.5.0",
            "_view_name": "HBoxView",
            "box_style": "",
            "children": [
              "IPY_MODEL_f783c9fef757403ab5c4fc8a5d92bdc9",
              "IPY_MODEL_3ceafffedd0341b3af057f6e65daa2cf",
              "IPY_MODEL_2d91b696186346c1bcdb125d2a0d1877"
            ],
            "layout": "IPY_MODEL_f592e8bf5bb440d9b4fc0a1ef0a3103c"
          }
        },
        "f783c9fef757403ab5c4fc8a5d92bdc9": {
          "model_module": "@jupyter-widgets/controls",
          "model_name": "HTMLModel",
          "model_module_version": "1.5.0",
          "state": {
            "_dom_classes": [],
            "_model_module": "@jupyter-widgets/controls",
            "_model_module_version": "1.5.0",
            "_model_name": "HTMLModel",
            "_view_count": null,
            "_view_module": "@jupyter-widgets/controls",
            "_view_module_version": "1.5.0",
            "_view_name": "HTMLView",
            "description": "",
            "description_tooltip": null,
            "layout": "IPY_MODEL_58c6bc3bf37a4dd3a7953d518deb9941",
            "placeholder": "​",
            "style": "IPY_MODEL_008a09dc134d4d9c80f20472400be69d",
            "value": "100%"
          }
        },
        "3ceafffedd0341b3af057f6e65daa2cf": {
          "model_module": "@jupyter-widgets/controls",
          "model_name": "FloatProgressModel",
          "model_module_version": "1.5.0",
          "state": {
            "_dom_classes": [],
            "_model_module": "@jupyter-widgets/controls",
            "_model_module_version": "1.5.0",
            "_model_name": "FloatProgressModel",
            "_view_count": null,
            "_view_module": "@jupyter-widgets/controls",
            "_view_module_version": "1.5.0",
            "_view_name": "ProgressView",
            "bar_style": "success",
            "description": "",
            "description_tooltip": null,
            "layout": "IPY_MODEL_193cfddd95074e4f9aa40e5b2a6d5ceb",
            "max": 6,
            "min": 0,
            "orientation": "horizontal",
            "style": "IPY_MODEL_d5980297fbf64483afd259ff80e29729",
            "value": 6
          }
        },
        "2d91b696186346c1bcdb125d2a0d1877": {
          "model_module": "@jupyter-widgets/controls",
          "model_name": "HTMLModel",
          "model_module_version": "1.5.0",
          "state": {
            "_dom_classes": [],
            "_model_module": "@jupyter-widgets/controls",
            "_model_module_version": "1.5.0",
            "_model_name": "HTMLModel",
            "_view_count": null,
            "_view_module": "@jupyter-widgets/controls",
            "_view_module_version": "1.5.0",
            "_view_name": "HTMLView",
            "description": "",
            "description_tooltip": null,
            "layout": "IPY_MODEL_1f52d1da68454ba8b8fa2ff6d960970c",
            "placeholder": "​",
            "style": "IPY_MODEL_05eb8f4626cd4b30af2f538902a72aab",
            "value": " 6/6 [00:04&lt;00:00,  1.76it/s]"
          }
        },
        "f592e8bf5bb440d9b4fc0a1ef0a3103c": {
          "model_module": "@jupyter-widgets/base",
          "model_name": "LayoutModel",
          "model_module_version": "1.2.0",
          "state": {
            "_model_module": "@jupyter-widgets/base",
            "_model_module_version": "1.2.0",
            "_model_name": "LayoutModel",
            "_view_count": null,
            "_view_module": "@jupyter-widgets/base",
            "_view_module_version": "1.2.0",
            "_view_name": "LayoutView",
            "align_content": null,
            "align_items": null,
            "align_self": null,
            "border": null,
            "bottom": null,
            "display": null,
            "flex": null,
            "flex_flow": null,
            "grid_area": null,
            "grid_auto_columns": null,
            "grid_auto_flow": null,
            "grid_auto_rows": null,
            "grid_column": null,
            "grid_gap": null,
            "grid_row": null,
            "grid_template_areas": null,
            "grid_template_columns": null,
            "grid_template_rows": null,
            "height": null,
            "justify_content": null,
            "justify_items": null,
            "left": null,
            "margin": null,
            "max_height": null,
            "max_width": null,
            "min_height": null,
            "min_width": null,
            "object_fit": null,
            "object_position": null,
            "order": null,
            "overflow": null,
            "overflow_x": null,
            "overflow_y": null,
            "padding": null,
            "right": null,
            "top": null,
            "visibility": null,
            "width": null
          }
        },
        "58c6bc3bf37a4dd3a7953d518deb9941": {
          "model_module": "@jupyter-widgets/base",
          "model_name": "LayoutModel",
          "model_module_version": "1.2.0",
          "state": {
            "_model_module": "@jupyter-widgets/base",
            "_model_module_version": "1.2.0",
            "_model_name": "LayoutModel",
            "_view_count": null,
            "_view_module": "@jupyter-widgets/base",
            "_view_module_version": "1.2.0",
            "_view_name": "LayoutView",
            "align_content": null,
            "align_items": null,
            "align_self": null,
            "border": null,
            "bottom": null,
            "display": null,
            "flex": null,
            "flex_flow": null,
            "grid_area": null,
            "grid_auto_columns": null,
            "grid_auto_flow": null,
            "grid_auto_rows": null,
            "grid_column": null,
            "grid_gap": null,
            "grid_row": null,
            "grid_template_areas": null,
            "grid_template_columns": null,
            "grid_template_rows": null,
            "height": null,
            "justify_content": null,
            "justify_items": null,
            "left": null,
            "margin": null,
            "max_height": null,
            "max_width": null,
            "min_height": null,
            "min_width": null,
            "object_fit": null,
            "object_position": null,
            "order": null,
            "overflow": null,
            "overflow_x": null,
            "overflow_y": null,
            "padding": null,
            "right": null,
            "top": null,
            "visibility": null,
            "width": null
          }
        },
        "008a09dc134d4d9c80f20472400be69d": {
          "model_module": "@jupyter-widgets/controls",
          "model_name": "DescriptionStyleModel",
          "model_module_version": "1.5.0",
          "state": {
            "_model_module": "@jupyter-widgets/controls",
            "_model_module_version": "1.5.0",
            "_model_name": "DescriptionStyleModel",
            "_view_count": null,
            "_view_module": "@jupyter-widgets/base",
            "_view_module_version": "1.2.0",
            "_view_name": "StyleView",
            "description_width": ""
          }
        },
        "193cfddd95074e4f9aa40e5b2a6d5ceb": {
          "model_module": "@jupyter-widgets/base",
          "model_name": "LayoutModel",
          "model_module_version": "1.2.0",
          "state": {
            "_model_module": "@jupyter-widgets/base",
            "_model_module_version": "1.2.0",
            "_model_name": "LayoutModel",
            "_view_count": null,
            "_view_module": "@jupyter-widgets/base",
            "_view_module_version": "1.2.0",
            "_view_name": "LayoutView",
            "align_content": null,
            "align_items": null,
            "align_self": null,
            "border": null,
            "bottom": null,
            "display": null,
            "flex": null,
            "flex_flow": null,
            "grid_area": null,
            "grid_auto_columns": null,
            "grid_auto_flow": null,
            "grid_auto_rows": null,
            "grid_column": null,
            "grid_gap": null,
            "grid_row": null,
            "grid_template_areas": null,
            "grid_template_columns": null,
            "grid_template_rows": null,
            "height": null,
            "justify_content": null,
            "justify_items": null,
            "left": null,
            "margin": null,
            "max_height": null,
            "max_width": null,
            "min_height": null,
            "min_width": null,
            "object_fit": null,
            "object_position": null,
            "order": null,
            "overflow": null,
            "overflow_x": null,
            "overflow_y": null,
            "padding": null,
            "right": null,
            "top": null,
            "visibility": null,
            "width": null
          }
        },
        "d5980297fbf64483afd259ff80e29729": {
          "model_module": "@jupyter-widgets/controls",
          "model_name": "ProgressStyleModel",
          "model_module_version": "1.5.0",
          "state": {
            "_model_module": "@jupyter-widgets/controls",
            "_model_module_version": "1.5.0",
            "_model_name": "ProgressStyleModel",
            "_view_count": null,
            "_view_module": "@jupyter-widgets/base",
            "_view_module_version": "1.2.0",
            "_view_name": "StyleView",
            "bar_color": null,
            "description_width": ""
          }
        },
        "1f52d1da68454ba8b8fa2ff6d960970c": {
          "model_module": "@jupyter-widgets/base",
          "model_name": "LayoutModel",
          "model_module_version": "1.2.0",
          "state": {
            "_model_module": "@jupyter-widgets/base",
            "_model_module_version": "1.2.0",
            "_model_name": "LayoutModel",
            "_view_count": null,
            "_view_module": "@jupyter-widgets/base",
            "_view_module_version": "1.2.0",
            "_view_name": "LayoutView",
            "align_content": null,
            "align_items": null,
            "align_self": null,
            "border": null,
            "bottom": null,
            "display": null,
            "flex": null,
            "flex_flow": null,
            "grid_area": null,
            "grid_auto_columns": null,
            "grid_auto_flow": null,
            "grid_auto_rows": null,
            "grid_column": null,
            "grid_gap": null,
            "grid_row": null,
            "grid_template_areas": null,
            "grid_template_columns": null,
            "grid_template_rows": null,
            "height": null,
            "justify_content": null,
            "justify_items": null,
            "left": null,
            "margin": null,
            "max_height": null,
            "max_width": null,
            "min_height": null,
            "min_width": null,
            "object_fit": null,
            "object_position": null,
            "order": null,
            "overflow": null,
            "overflow_x": null,
            "overflow_y": null,
            "padding": null,
            "right": null,
            "top": null,
            "visibility": null,
            "width": null
          }
        },
        "05eb8f4626cd4b30af2f538902a72aab": {
          "model_module": "@jupyter-widgets/controls",
          "model_name": "DescriptionStyleModel",
          "model_module_version": "1.5.0",
          "state": {
            "_model_module": "@jupyter-widgets/controls",
            "_model_module_version": "1.5.0",
            "_model_name": "DescriptionStyleModel",
            "_view_count": null,
            "_view_module": "@jupyter-widgets/base",
            "_view_module_version": "1.2.0",
            "_view_name": "StyleView",
            "description_width": ""
          }
        }
      }
    }
  },
  "cells": [
    {
      "cell_type": "markdown",
      "metadata": {
        "id": "view-in-github",
        "colab_type": "text"
      },
      "source": [
        "<a href=\"https://colab.research.google.com/github/timob0/rag/blob/main/RAGFP_demo.ipynb\" target=\"_parent\"><img src=\"https://colab.research.google.com/assets/colab-badge.svg\" alt=\"Open In Colab\"/></a>"
      ]
    },
    {
      "cell_type": "markdown",
      "source": [
        "Load required libraries"
      ],
      "metadata": {
        "id": "ef-cz4rmNBh-"
      }
    },
    {
      "cell_type": "code",
      "source": [
        "%%capture\n",
        "!pip install chromadb tqdm fireworks-ai python-dotenv pandas\n",
        "!pip install sentence-transformers\n",
        "\n",
        "import fireworks.client\n",
        "import os\n",
        "import dotenv\n",
        "import chromadb\n",
        "import json\n",
        "from tqdm.auto import tqdm\n",
        "import pandas as pd\n",
        "import random\n",
        "from google.colab import userdata\n",
        "from google.colab import drive\n",
        "import textwrap"
      ],
      "metadata": {
        "id": "lG7oQH6DMwN_"
      },
      "execution_count": 101,
      "outputs": []
    },
    {
      "cell_type": "code",
      "source": [
        "# Retrieve Fireworks AI API key\n",
        "dotenv.load_dotenv()\n",
        "fireworks.client.api_key = userdata.get('FW_API_KEY')\n",
        "\n",
        "# Mount Google Drive with the RFP database\n",
        "drive.mount('/content/drive')\n",
        "\n",
        "# !ls \"/content/drive/My Drive/Colab Notebooks\""
      ],
      "metadata": {
        "id": "V_3CVd7-NVvN",
        "colab": {
          "base_uri": "https://localhost:8080/"
        },
        "outputId": "438cf698-63d6-4875-f87a-5e2ab871ae10"
      },
      "execution_count": 2,
      "outputs": [
        {
          "output_type": "stream",
          "name": "stdout",
          "text": [
            "Drive already mounted at /content/drive; to attempt to forcibly remount, call drive.mount(\"/content/drive\", force_remount=True).\n",
            " archiv\t\t        RAG_demo.ipynb\t rfp_data.xlsx\t       RFP_demo.ipynb\n",
            " ml-potw-10232023.csv   rfp_data.csv\t'RFP_demo (1).ipynb'\n"
          ]
        }
      ]
    },
    {
      "cell_type": "markdown",
      "source": [
        "A function to get completions from the fireworks LLM"
      ],
      "metadata": {
        "id": "Ls4MKbOAOBGg"
      }
    },
    {
      "cell_type": "code",
      "source": [
        "def get_completion(prompt, model=None, max_tokens=50, p_temperature=0):\n",
        "\n",
        "    fw_model_dir = \"accounts/fireworks/models/\"\n",
        "\n",
        "    if model is None:\n",
        "        model = fw_model_dir + \"llama-v3p1-8b-instruct\"\n",
        "    else:\n",
        "        model = fw_model_dir + model\n",
        "\n",
        "    completion = fireworks.client.Completion.create(\n",
        "        model=model,\n",
        "        prompt=prompt,\n",
        "        max_tokens=max_tokens,\n",
        "        temperature=p_temperature\n",
        "    )\n",
        "\n",
        "    return completion.choices[0].text"
      ],
      "metadata": {
        "id": "l4TOAq_PN_kp"
      },
      "execution_count": 27,
      "outputs": []
    },
    {
      "cell_type": "markdown",
      "source": [
        "Test connectivity to the mistral LLM"
      ],
      "metadata": {
        "id": "HsTXsIVBgHMJ"
      }
    },
    {
      "cell_type": "code",
      "source": [
        "mistral_llm = \"mixtral-8x7b-instruct\"\n",
        "\n",
        "get_completion(\"[INST]Tell me 2 jokes[/INST]\", model=mistral_llm)"
      ],
      "metadata": {
        "colab": {
          "base_uri": "https://localhost:8080/",
          "height": 35
        },
        "id": "Ugp1-R3eQMRf",
        "outputId": "cc039e68-318d-42e1-941a-40da0694fe0a"
      },
      "execution_count": 4,
      "outputs": [
        {
          "output_type": "execute_result",
          "data": {
            "text/plain": [
              "\" Sure, here are two jokes for you:\\n\\n1. Why don't scientists trust atoms?\\n\\nBecause they make up everything!\\n\\n1. Why did the scarecrow win an award?\\n\\nBecause he was outstanding\""
            ],
            "application/vnd.google.colaboratory.intrinsic+json": {
              "type": "string"
            }
          },
          "metadata": {},
          "execution_count": 4
        }
      ]
    },
    {
      "cell_type": "markdown",
      "source": [
        "Read a database with RFP Questions and Answers to augment the text generation using the LLM.\n"
      ],
      "metadata": {
        "id": "2Uc9wKU6R5EL"
      }
    },
    {
      "cell_type": "code",
      "source": [
        "# load dataset from google drive and convert to dataframe\n",
        "# dataset contains column names\n",
        "rfp_file = pd.read_csv('/content/drive/My Drive/Colab Notebooks/rfp_data.csv', header=0, delimiter=\";\")\n",
        "\n",
        "# remove rows with empty titles or descriptions\n",
        "rfp_qa = rfp_file.dropna(subset=[\"Question\", \"Answer\"])\n",
        "rfp_qa.tail()\n",
        "# convert dataframe to list of dicts with Question and Answer columns only\n",
        "rfp_qa_dict = rfp_qa.to_dict(orient=\"records\")"
      ],
      "metadata": {
        "id": "4xzDv7_NRs3A"
      },
      "execution_count": 131,
      "outputs": []
    },
    {
      "cell_type": "markdown",
      "source": [
        "Install Chroma DB and store word embeddings."
      ],
      "metadata": {
        "id": "5_xx29YSg6mB"
      }
    },
    {
      "cell_type": "code",
      "source": [
        "from chromadb import Documents, EmbeddingFunction, Embeddings\n",
        "from sentence_transformers import SentenceTransformer\n",
        "embedding_model = SentenceTransformer('all-MiniLM-L6-v2')\n",
        "\n",
        "class MyEmbeddingFunction(EmbeddingFunction):\n",
        "    def __call__(self, input: Documents) -> Embeddings:\n",
        "        batch_embeddings = embedding_model.encode(input)\n",
        "        return batch_embeddings.tolist()\n",
        "\n",
        "embed_fn = MyEmbeddingFunction()\n",
        "\n",
        "# Initialize the chromadb directory, and client.\n",
        "client = chromadb.PersistentClient(path=\"./chromadb\")\n",
        "\n",
        "# create collection\n",
        "client.delete_collection(name=f\"rfp-materials-2024\")\n",
        "collection = client.create_collection(name=f\"rfp-materials-2024\")\n",
        "# Generate embeddings, and index titles in batches\n",
        "batch_size = 50\n",
        "\n",
        "# loop through batches and generated + store embeddings\n",
        "for i in tqdm(range(0, len(rfp_qa_dict), batch_size)):\n",
        "\n",
        "    i_end = min(i + batch_size, len(rfp_qa_dict))\n",
        "    batch = rfp_qa_dict[i : i + batch_size]\n",
        "\n",
        "    # Replace empty strings (shouldn't happen)\n",
        "    batch_questions = [str(paper[\"Question\"]) if str(paper[\"Question\"]) != \"\" else \"No Question\" for paper in batch]\n",
        "    batch_answers = [str(paper[\"Answer\"]) if str(paper[\"Answer\"]) != \"\" else \"No Answer\" for paper in batch]\n",
        "    batch_ids = [str(sum(ord(c) + random.randint(1, 10000) for c in paper[\"Question\"])) for paper in batch]\n",
        "    batch_metadata = [dict(source=paper[\"Source\"],\n",
        "                           theme=paper['Theme'].strip(),\n",
        "                           rfp=paper['Original_RFP']\n",
        "                           )\n",
        "                           for paper in batch]\n",
        "\n",
        "    # generate embeddings\n",
        "    batch_embeddings = embedding_model.encode(batch_questions)\n",
        "\n",
        "    # upsert to chromadb\n",
        "    collection.upsert(\n",
        "        ids=batch_ids,\n",
        "        metadatas=batch_metadata,\n",
        "        documents=batch_answers,\n",
        "        embeddings=batch_embeddings.tolist(),\n",
        "    )"
      ],
      "metadata": {
        "colab": {
          "base_uri": "https://localhost:8080/",
          "height": 49,
          "referenced_widgets": [
            "99cfcfc9ea814d5caff4b289b61c4e08",
            "f783c9fef757403ab5c4fc8a5d92bdc9",
            "3ceafffedd0341b3af057f6e65daa2cf",
            "2d91b696186346c1bcdb125d2a0d1877",
            "f592e8bf5bb440d9b4fc0a1ef0a3103c",
            "58c6bc3bf37a4dd3a7953d518deb9941",
            "008a09dc134d4d9c80f20472400be69d",
            "193cfddd95074e4f9aa40e5b2a6d5ceb",
            "d5980297fbf64483afd259ff80e29729",
            "1f52d1da68454ba8b8fa2ff6d960970c",
            "05eb8f4626cd4b30af2f538902a72aab"
          ]
        },
        "id": "wHyPdw3MSLzo",
        "outputId": "6b254356-c217-4d56-e3d6-5075996749b2"
      },
      "execution_count": 126,
      "outputs": [
        {
          "output_type": "display_data",
          "data": {
            "text/plain": [
              "  0%|          | 0/6 [00:00<?, ?it/s]"
            ],
            "application/vnd.jupyter.widget-view+json": {
              "version_major": 2,
              "version_minor": 0,
              "model_id": "99cfcfc9ea814d5caff4b289b61c4e08"
            }
          },
          "metadata": {}
        }
      ]
    },
    {
      "cell_type": "markdown",
      "source": [
        "Testing the text retriever, this will retrieve output based on the data found in the vector database."
      ],
      "metadata": {
        "id": "eRPdWwvuS9Mg"
      }
    },
    {
      "cell_type": "code",
      "source": [
        "collection = client.get_or_create_collection(\n",
        "    name=f\"rfp-materials-2024\",\n",
        "    embedding_function=embed_fn\n",
        ")\n",
        "\n",
        "retriever_results = collection.query(\n",
        "    query_texts=[\"What are ESG factors?\"],\n",
        "    n_results=2,\n",
        ")\n",
        "\n",
        "print(retriever_results[\"documents\"])\n",
        "print(retriever_results[\"metadatas\"])"
      ],
      "metadata": {
        "id": "2rSPeBEJS3-T",
        "colab": {
          "base_uri": "https://localhost:8080/"
        },
        "outputId": "4e56cf36-f7e4-43b3-8287-c6c479e0e3f6"
      },
      "execution_count": 23,
      "outputs": [
        {
          "output_type": "stream",
          "name": "stdout",
          "text": [
            "[['In addition to the standard ESG integration, IQS can implement individual ESG requirements in numerous respects:\\n\\n-\\tPositive criteria: By applying positive criteria, companies are identified that display excellence in sustainable management and sustainable products or processes. They fulfil ecological and social requirements particularly well, ranging from climate efficiency and low water consumption to labour safety and satisfaction.\\n-\\tExclusion and negative criteria: By applying these criteria, companies, sectors or countries can be excluded from the investment universe which fail to fulfil certain ESG criteria or that violate international norms and standards according to the definitions of the International Labour Organisation (ILO), the OECD or the United Nations. \\n\\nThe investment team is able to define a set of ESG criteria in close co-operation with the client. Exclusion criteria and negative criteria can be used to eliminate companies that fail to meet certain ESG criteria, with positive criteria, companies can be identified, which are particularly characterised by sustainable economic development, positive products or processes. With a best-in-class approach companies are selected for the portfolio if they are leaders in their industries with respect to ecological and social standards. For a thorough ESG assessment of companies the IQS team utilizes a variety of internal and external data sources, incl. MSCI, ISS, Vigeo Eiris, and others.\\n\\nFurthermore, IQS offers research driven ESG solutions which allows to align the ESG needs of clients with the IQS multi-factor investment approach. A recent example is the work on a multi-factor low carbon solution for a UK Local Government Pension Scheme as well as a research project about temperature reduction in portfolios during the portfolio construction (Kolle, J., Lohre, H., Radatz, E., Rother, C. (2022). Factor Investing in Paris: Managing Climate change risk in portfolio construction, Forthcoming at Journal Of Investment Management.)', 'Adverse ESG momentum\\nAt the intersection of return and risk is the case of stocks that experience severe downgrades to their ESG scores. These tend to be companies that have delivered highly disappointing news that caused the market to reassess the companies’ core processes and values. Historically, IQS found evidence that these companies continue to underperform after downgrade events and based on the much higher importance attached to ESG today, the team expects this to have a greater impact going forward. IQS has therefore integrated sharp downgrades of ESG scores into its risk management and treats such stocks as exceptional. This means that for a period of at least six months, the team will disregard the calculated factor exposure of such stocks and sell them out of all strategies that are not managed to a tight tracking error. Since the inclusion of the ESG Adverse Momentum measure, several stocks have been placed on our exception list to avoid materialization of further ESG risks. ']]\n",
            "[[{'rfp': 'SJP', 'source': 'Summary.docx', 'theme': 'General'}, {'rfp': 'SJP', 'source': 'Summary.docx', 'theme': 'General'}]]\n"
          ]
        }
      ]
    },
    {
      "cell_type": "code",
      "source": [
        "rfp_qa['Theme'].unique()"
      ],
      "metadata": {
        "colab": {
          "base_uri": "https://localhost:8080/"
        },
        "id": "7JUKfUFKjJsp",
        "outputId": "963b249d-921a-48b0-aa37-8e4a63f460a0"
      },
      "execution_count": 134,
      "outputs": [
        {
          "output_type": "execute_result",
          "data": {
            "text/plain": [
              "array(['General', 'UK Enhanced ', 'Global Enhanced '], dtype=object)"
            ]
          },
          "metadata": {},
          "execution_count": 134
        }
      ]
    },
    {
      "cell_type": "code",
      "source": [
        "# @title Enter your RFP Query and hit return. { run: \"auto\" }\n",
        "user_query = \"Please explain your risk management approach\"  # @param {type:\"string\"}\n",
        "user_theme = 'General' # @param ['General', 'UK Enhanced ', 'Global Enhanced ']\n",
        "user_response_count = 5 # @param {type:\"slider\", min:1, max:5, step:1}\n",
        "user_response_temp = 0 # @param {type:\"slider\", min:0, max:1, step:0.1}\n",
        "user_response_toks = 250 # @param {type:\"slider\", min:50, max:5000, step:50}\n",
        "\n",
        "# query for user query\n",
        "results = collection.query(\n",
        "    query_texts=[user_query],\n",
        "    # where={\"$or\": [{\"theme\": user_theme.strip()}, {\"theme\": \"General\"}]},\n",
        "    where={\"theme\": user_theme.strip()},\n",
        "    n_results=user_response_count,\n",
        ")\n",
        "\n",
        "# concatenate titles into a single string\n",
        "answers = '\\n'.join(results['documents'][0])\n",
        "\n",
        "prompt_template = f'''[INST]\n",
        "\n",
        "Your main task is to generate RFP_TEXT by summarizing the RFP_ANSWERS.\n",
        "\n",
        "You should mimic a style similar to the one in the QUESTION.\n",
        "\n",
        "QUESTION: {user_query}\n",
        "\n",
        "RFP_ANSWERS: {answers}\n",
        "\n",
        "RFP_TEXT:\n",
        "\n",
        "[/INST]\n",
        "'''\n",
        "\n",
        "model_response = get_completion(prompt_template, model=mistral_llm, max_tokens=user_response_toks, p_temperature=user_response_temp)\n",
        "\n",
        "# Print the suggestions.\n",
        "print(\"========================================================================\")\n",
        "print(\"Your query:\")\n",
        "print()\n",
        "print(user_query)\n",
        "print(\"========================================================================\")\n",
        "print()\n",
        "\n",
        "print(\"========================================================================\")\n",
        "print(\"Model generated answer:\")\n",
        "print()\n",
        "print(textwrap.fill(model_response,120))\n",
        "print(\"========================================================================\")\n",
        "print()\n",
        "\n",
        "print(\"========================================================================\")\n",
        "print(\"Reference answers from RFP database:\")\n",
        "for i in range(len(results['ids'][0])):\n",
        "  mdo = results['metadatas'][0][i]\n",
        "  print(\"=============================================================================\")\n",
        "  print(\"Result  :\",i+1)\n",
        "  print(\"Theme   :\", mdo['theme'])\n",
        "  print(\"Document:\", mdo['source'])\n",
        "  print(\"Used RFP:\", mdo['rfp'])\n",
        "\n",
        "  print()\n",
        "  print(textwrap.fill(results['documents'][0][i], 120))\n",
        "print(\"========================================================================\")"
      ],
      "metadata": {
        "id": "utT859zvTPjG",
        "colab": {
          "base_uri": "https://localhost:8080/"
        },
        "cellView": "form",
        "outputId": "76987e13-6b9f-4b0c-ee65-49c444877bf3"
      },
      "execution_count": 152,
      "outputs": [
        {
          "output_type": "stream",
          "name": "stdout",
          "text": [
            "========================================================================\n",
            "Your query:\n",
            "\n",
            "Please explain your risk management approach\n",
            "========================================================================\n",
            "\n",
            "========================================================================\n",
            "Model generated answer:\n",
            "\n",
            "Invesco's risk management approach is comprehensive and integrated into its investment culture, with all employees\n",
            "playing a role. The firm has multiple lines of defense in its risk management approach, which is designed to ensure that\n",
            "portfolios perform as expected and that clients have confidence in their investments. Invesco's investment teams have\n",
            "discretion in managing risks, with each team deploying a robust risk management framework tailored to its investment\n",
            "process and owned by its CIO. The firm has multiple groups that monitor investment teams to ensure they are operating\n",
            "within best practices, including Investment Risk Management, Global Performance, Global Compliance, and other governance\n",
            "structures. Oversight is provided by senior leaders, independent boards, and audit teams, including the Invesco\n",
            "Performance and Risk Committee and Internal Audit.  In the EMEA region, risk management is separated between independent\n",
            "Operational and Investment Risk teams who monitor operational and investment (portfolio) risk for funds and mandates\n",
            "domiciled, managed, or contracted in the region. The Operational Risk team facilitates and coordinates the Risk and\n",
            "Control Self-Assessment (RCSA) completed by each business function, manages the incident\n",
            "========================================================================\n",
            "\n",
            "========================================================================\n",
            "Reference answers from RFP database:\n",
            "=============================================================================\n",
            "Result  : 1\n",
            "Theme   : General\n",
            "Document: Summary.docx\n",
            "Used RFP: AP7\n",
            "\n",
            "Managing risk is an integral part of Invesco’s investment culture, and it starts with the recognition that everyone\n",
            "plays a role in risk management. Built with multiple lines of defence, the firm’s risk management approach seeks to\n",
            "assure that Invesco’s managers adhere to best practices. The goal is for portfolios to perform as expected and for\n",
            "clients to feel confident in their investment.  The investment teams Invesco believes the best outcomes are achieved\n",
            "through distinct investment teams across the globe, with discrete investment perspectives, operating under a disciplined\n",
            "philosophy and process. To support the unique needs of each investment team, each one deploys a robust risk management\n",
            "framework that is tailored to its investment process and is owned by its CIO. Each team uses its framework to thoroughly\n",
            "assess the risk and return characteristics of each individual security and carefully calibrate the overall risk level of\n",
            "the portfolio when these investments are combined.  Multiple groups within Invesco At every step in the process, the\n",
            "investment teams are provided with global expertise and support that enhances their risk management efforts. The\n",
            "following groups monitor the investment teams to make sure they are operating within best practices as well as their\n",
            "stated objectives:   •       Investment Risk Management identifies the appropriate risks to monitor for each portfolio\n",
            "to ensure that each portfolio is managed in the intended manner, including the concentration of holdings by issue and\n",
            "issuer, counterparty risk, liquidity risk, performance dispersion and other factors. •       Global Performance delivers\n",
            "customised portfolio performance analysis and attribution reporting that facilitates the Investment Risk evaluation of\n",
            "whether ex-post performance results are aligned with ex-ante risk expectations. •       Global Compliance monitors pre-\n",
            "and post-trade compliance and performs other fiduciary assurance functions. •       Other governance structures that\n",
            "assure best practices including the Global Trade Operations Committee, the New Instrument Committee, the Pricing\n",
            "Committee and the Proxy Committee.  Senior leaders, independent boards and audit teams Oversight is critical. The\n",
            "following groups provide a high-level review of the entire process:   •       The Invesco Performance and Risk Committee\n",
            "is composed of senior leaders who review risk and performance issues and monitor progress against the firm-wide\n",
            "strategic priority of achieving strong investment performance. •       Internal Audit provides end-to-end process review\n",
            "to identify any control gaps and execution challenges.  Independent risk management process in EMEA Risk management for\n",
            "Invesco’s EMEA region  is separated between independent Operational and Investment Risk teams who monitor operational\n",
            "and investment (portfolio) risk for funds and mandates that are domiciled, managed or contracted in the region.   Both\n",
            "teams maintain objectivity and avoid conflicts of interest by being separated from the firm’s portfolio and business\n",
            "management functions, and are responsible for the risk management framework, policies and processes to meet client\n",
            "expectations and ensure compliance with regulatory standards across the region. The teams are also responsible for risk\n",
            "reporting and escalations to senior management, various EMEA risk management committees, relevant boards as well as\n",
            "external shareholders.     Operational Risk team The Operational Risk team for the EMEA region reports to Matthew\n",
            "Easton, Invesco's Chief Risk & Audit Officer. Matthew leads the firm’s Enterprise Risk function. The team’s core\n",
            "activities include:    •       Facilitating, coordinating and challenging the quarterly Risk and Control Self-Assessment\n",
            "(RCSA) completed by each business function •       Actively managing the incident management process and BWise system,\n",
            "including independently following up on and ensuring effective mitigation of incidents and investigation of systemic and\n",
            "thematic issues. •       Providing operational risk information for capital requirements directive purposes e.g. for the\n",
            "ICAAP (Internal Capital Adequacy Assessment Process), Solvency ii, ORSA (Own Risk and Solvency Assessment) and MaRisk;\n",
            "including quantified aggregated inherent impact exposures and viable stress-test scenarios •       Aggregation and\n",
            "reporting of key risk indicators to monitor business adherence to our risk appetite   Investment Risk team The\n",
            "Investment Risk team in the EMEA region reports to Thomas Sheedy, Head of Investment Risk - EMEA, as illustrated in the\n",
            "organisation framework below. Thomas has responsibility for investment risk monitoring across Invesco for the EMEA\n",
            "region and reports into Jerry Cubbin who is Head of Investment Risk globally. The team’s core activities include:   •\n",
            "Supporting the management of investment risks including market, liquidity, counterparty, leverage and derivatives risk •\n",
            "Independently identifying, monitoring, quantifying and assessing all investment-related risks within and across products\n",
            "during the new product development phase and within the life of a product  •       Monitoring of portfolio risk limits\n",
            "(regulatory, contractual and internal) with the ability to escalate if required •       Communicating/heightening\n",
            "awareness and escalating investment-related risks in the business, on an ad hoc basis as warranted, through periodic\n",
            "‘risk challenge’ sessions with fund managers •       Derivatives risk management oversight •       Oversight of\n",
            "outsourced risk systems, models and analytics   As part of the risk management process, the Investment Risk team\n",
            "interacts with investment teams in relation to the following:   •       Definition of a portfolio’s risk profile prior\n",
            "to its launch •       Attendance at risk challenge sessions on at least a semi-annual basis during which risk profiles\n",
            "are discussed and reviewed if needed •       As per the firm’s escalation process in the case of an internal or\n",
            "regulatory limit breach of a portfolio’s risk profile   All analytics monitored by the Investment Risk team are\n",
            "available to investment teams who are also able to request additional analytics that may help them manage their\n",
            "portfolio risk more effectively.   The Investment Risk team also collaborates closely with other risk experts in the\n",
            "firm, in particular Invesco’s Risk Measurement team, who also report to Jerry Cubbin. For the EMEA region, the Risk\n",
            "Measurement team produces risk metrics such as VaR, portfolio stress-testing and liquidity risk analysis which is\n",
            "leveraged by the Investment Risk team.  Please list the scope of monitoring and documentation. The IQS investment\n",
            "process is essentially a risk management process. Hence, rigorous risk management, risk assessment and risk monitoring\n",
            "of market risk and other risk factors is a built-in feature of the IQS investment process and portfolio construction.\n",
            "The investment team uses a proprietary equity risk model that forms the basis of risk assessment considering all\n",
            "relevant risk factors, standard and bespoke. For each portfolio, IQS initially establishes specific performance and risk\n",
            "objectives relative to a benchmark. Portfolios are then systematically monitored on an ongoing basis to ensure coherence\n",
            "with the client’s guidelines. A risk assessment process is used that classifies the risk characteristics of each stock\n",
            "into four categories: market risk, style, industry/sector/country, and company specific. The investment team can\n",
            "intervene at any time if the portfolio risk deviates from its intended risk levels or if market circumstances change\n",
            "dramatically. Furthermore, as an element of human oversight and a consistency check, the results of each rebalancing are\n",
            "reviewed by senior portfolio management to ensure the resulting portfolio properly reflects the investment strategy\n",
            "Furthermore, the following control systems assure that investment guidelines are not breached for the firm's segregated\n",
            "mandates:   Pre-trade investment compliance monitoring:  Invesco employs the CRD order management system which\n",
            "streamlines, automates and enhances the firm’s investment management operations from decision support through to\n",
            "settlement. CRD provides the comprehensive control tools fund managers, dealers, operations and compliance personnel\n",
            "require on one scalable platform. All quantifiable portfolio investment parameters are entered, by the Investment\n",
            "Guidelines Monitoring team, into CRD that (subject to certain limitations), is designed to prevent inadmissible trades\n",
            "and to issue warnings to fund managers if a trade is likely to result in a parameter breach.   Post-trade investment\n",
            "compliance monitoring:  The majority of post-trade compliance monitoring is completed through CRD. Post-trade checks are\n",
            "carried out against all investment parameter rules for any potential warnings or breaches. Where CRD is unable to\n",
            "monitor certain restrictions due to system/data limitations, robust manual checks are in place, undertaken by the\n",
            "Investment Guidelines Monitoring team to ensure all restrictions are adhered to. Pre-trade alerts and post-trade\n",
            "violations and breaches are investigated. Each alert is checked by the Investment Guideline Monitoring team. The fund\n",
            "managers are contacted by the Investment Compliance team regarding any potential breach.  Risk monitoring As part of\n",
            "Invesco’s product development process, each fund has a risk profile in place which has to be set prior to its launch.\n",
            "The risk profile is a document that supports the Investment Risk team in monitoring a fund’s risks and at least includes\n",
            "limits on market risk (VaR), liquidity risk, leverage risk and counterparty risk.\n",
            "=============================================================================\n",
            "Result  : 2\n",
            "Theme   : General\n",
            "Document: Summary.docx\n",
            "Used RFP: SJP\n",
            "\n",
            "The IQS investment process is essentially a risk management process. Hence, rigorous risk management, risk assessment\n",
            "and risk monitoring of market risk and other risk factors is a built-in feature of the IQS investment process and\n",
            "portfolio construction. The investment team uses a proprietary risk model that forms the basis of risk assessment\n",
            "considering all relevant risk factors, standard and bespoke. As a result, intended factor exposures can be established\n",
            "where desired while unwanted risks are broadly eliminated. For each portfolio, IQS initially establishes specific\n",
            "performance and risk objectives relative to a benchmark. Portfolios are then systematically monitored on an ongoing\n",
            "basis to ensure coherence with the client’s guidelines.  A risk assessment process is used that classifies the risk\n",
            "characteristics of each stock into four categories: market risk, style, industry/sector, and company specific. The\n",
            "investment team can intervene at any time if the portfolio risk deviates from its intended risk levels or if market\n",
            "circumstances change dramatically. Furthermore, as an element of human oversight and a consistency check, the results of\n",
            "each rebalancing are reviewed by senior portfolio management to ensure the resulting portfolio properly reflects the\n",
            "investment strategy\n",
            "=============================================================================\n",
            "Result  : 3\n",
            "Theme   : General\n",
            "Document: Summary.docx\n",
            "Used RFP: AP7\n",
            "\n",
            "Currently, the risk system used by the Investment Risk Team can facilitate VaR calculation with historical simulation.\n",
            "In addition, the IQS team uses a proprietary multi-factor risk model based on Axioma that uses the same multi-factor\n",
            "building blocks as the alpha model in order to provide alignment of return factor and risk view.\n",
            "=============================================================================\n",
            "Result  : 4\n",
            "Theme   : General\n",
            "Document: Summary.docx\n",
            "Used RFP: SJP\n",
            "\n",
            "There are different types of investment risk, we distinguish between rewarded and unrewarded risk, our investment\n",
            "process will actively seek the former and avoid the latter. There is risk that is compensated, like factor-based risks.\n",
            "By systematically overweighting the exposure to rewarding factors like Momentum, Quality and Value it is possible to\n",
            "earn the risk premia associated with these factors. This is exactly what the IQS investment approach aims to do.  There\n",
            "are also risks that are not compensated, like residual risk coming from active weights in countries, sector, industries,\n",
            "FX etc. These non-rewarded risk factors shall be avoided and are strictly constrained during the portfolio construction,\n",
            "and the contributions in terms of risk and return are expected to be minimal over time.  We also consider ESG risk non-\n",
            "rewarded, therefore we use our fully integrated ESG process as a risk management tool rather than an explicit alpha\n",
            "component. For example, in the standard ESG integration we make sure that the portfolio’s average ESG exposure is not\n",
            "worse than the benchmark, and we exclude companies with severe ESG downgrades from the investable universe (“Adverse ESG\n",
            "Momentum”) In addition, there are implementation risks, for example liquidity risk. To control these risks, the\n",
            "investment team establishes exposure and trading limits for each stock based on liquidity, measured in terms of average\n",
            "daily trading volume and market capitalisation. Portfolio construction rules then prevent IQS from taking position sizes\n",
            "above the liquidity limit for that stock even if the stock is very appealing from a factor perspective.\n",
            "=============================================================================\n",
            "Result  : 5\n",
            "Theme   : General\n",
            "Document: Summary.docx\n",
            "Used RFP: AP7\n",
            "\n",
            "In short: risk-based explanations or behavioural rationales for every signal. The empirical evidence for the Value\n",
            "factor suggests that investors can harvest a risk premium from investing in value stocks, i.e. companies that appear to\n",
            "be undervalued relative to their peers. Investors get compensated for bearing the higher risks of value stocks, i.e.\n",
            "stocks that are cheap for a reason. Also, as value stocks tend to be more sensitive to the economic environment,\n",
            "investors get compensated for bearing this risk. Hence, Value factors tend to perform best when risk aversion in the\n",
            "market is low and the economic outlook is positive, and/or in times of rising inflation expectations.  Within Value, the\n",
            "Cash Flow Yield (CFY) is the most important signal with the highest weight in the Value factor. CFY tends to be a more\n",
            "stringent measure of Value as cash flows are less susceptible to accounting discretion. Companies have a much harder\n",
            "time manipulating cash flow than other accounting measures. Likewise, earnings multiples are often difficult to\n",
            "standardise because of the differences in accounting practices whereas cash flow multiples are more comparable across\n",
            "companies.  Gross Profit Yield (GPY): GPY is also less susceptible to “pollution” as it is less subject to write-offs\n",
            "and other one-time items. Novy-Marx (2013) argues that gross profits are the cleanest accounting measure of economic\n",
            "profitability.  Earnings Yield (EY): EY is a forward looking measure for profitability that incorporates the consensus\n",
            "view.  Dividend Yield: Paying a dividend has a signalling effect to the market that the company is confident about\n",
            "future business perspectives. Many institutional as well as private investors prefer distributions in terms of dividends\n",
            "instead of selling their shares due to higher average costs (market frictions). There is also the bird-in-hand theory\n",
            "that stocks with high dividend pay-outs are sought by investors and consequently command a higher market price.\n",
            "Empirical evidence for Momentum confirms a systematic premium. Rationales build on theories from behavioural finance\n",
            "such as herding effects and preference for trends. Furthermore, an initial underreaction to positive or negative news\n",
            "tends to be observed. As investors tend adapt relatively slowly to news, it takes some time for new information to be\n",
            "fully reflected stock prices. Hence, existing price trends tend to continue for a while. Earnings Momentum builds on the\n",
            "idea that directional changes tend to be assessed correctly by the aggregate analyst, however the extent tends to be\n",
            "underappreciated. Momentum factors are less sensitive to the economic environment and the risk aversion in the market.\n",
            "Within Momentum, Adjusted Momentum is the enhancement of the traditional 12-1 momentum factor. The traditional factor\n",
            "has the following shortcomings:   •       The reading of a standard 12-1 month return solely depends on two price\n",
            "figures which makes it rather sensitive to the point in time of calculation  •       The standard definition does not\n",
            "take into account the path a stock evolves in the course of time: High volatile stocks may achieve the same indicator\n",
            "reading as smooth and steady growing stocks. It does not fully capture the notion of a “trend”.   Our Adjusted Momentum\n",
            "signals overcome these shortcomings by taking the volatility of the price trend into account, with stocks with a more\n",
            "stable price trend receiving a higher signal reading. Multiple data points are taken into account. Furthermore, a\n",
            "stock’s idiosyncratic momentum is analysed, i.e., a stock’s abnormal return that is not explained by market movements.\n",
            "This analysis is done for multiple time periods to also take longer term reversal effects into account.   Earnings\n",
            "Revisions captures a company’s earnings trend. We use dispersion adjusted measures of the change in earnings estimates,\n",
            "which has the following advantages: 1) companies that significantly beat their estimates will receive a higher score\n",
            "than companies that barely beat their estimates and 2) companies that barely beat already lowered estimates may not\n",
            "necessarily receive a good signal reading, unless the new estimates are higher than the original estimates, 3) This\n",
            "serves to penalise stocks with high earnings risk and reward stocks with high earnings certainty. This is arguably a\n",
            "cleaner measurement of earnings revisions.  Event Momentum captures large post-earnings announcement drifts when ranking\n",
            "stocks based on their abnormal return around the time of the announcement. The predominant belief for this pattern is\n",
            "that the drift is caused by some under-reaction to the information in earnings announcements. To the extent that the\n",
            "abnormal return captures a wide range of earnings news, it could be argued that it is the best available measure of\n",
            "market surprise. Moreover, this literature typically finds that firms that surprise the market in one quarter continue\n",
            "to do so in the same direction one year later.  With the NLP-based Linguistic Sentiment signal, the IQS team analyses\n",
            "earnings calls transcripts (more specifically: the Q&A session after the official presentation) to identify if\n",
            "management is positive or negative about the company’s future performance.   Quality factors serve as a stabilizer in\n",
            "portfolios as companies with higher balance sheet and management quality are expected to experience less volatility.\n",
            "Hence, a portfolio’s information ratio may be improved by adding Quality. Furthermore, high-quality companies should be\n",
            "less prone to economic downturns. The factor premium can also be explained with investor overconfidence and gambling –\n",
            "investors invest in low-quality companies as they assume they have better insights than other market participants or\n",
            "hope that quality issues will resolve and they may receive a high price appreciation as a result. With this behaviour,\n",
            "they artificially bid up low-quality stocks, so that these stocks offer lower returns going forward. Quality factors\n",
            "also tend to have a positive correlation to good Governance.  Within Quality, Financing and Assets captures total\n",
            "changes in net external financing including debt and equity. Companies that reduce debt, repurchase stocks and pay out\n",
            "dividends get a higher signal reading. Companies with high external financing tend to have a weaker performance. This\n",
            "negative relation can be explained by a combination of over-investment and aggressive accounting.   Profitability\n",
            "analyses gross profit in relation to total assets, which captures the efficiency with which companies utilize their\n",
            "assets to generate income.  Fundamental Health evaluates a company’s balance sheet with the help of different\n",
            "indicators, with the rational that companies with a strong balance sheet will outperform companies with a weak balance\n",
            "sheet over time.  Accounting Integrity analyses the discrepancy between cashflows and earnings and captures that the\n",
            "more the management distorts the earnings numbers, the worse the corporate management is and the worse the future\n",
            "performance will be.   Please see below an overview of our most important signals for the factors Value, Momentum and\n",
            "Quality. Different signals have additional sub-components and the specific signals used can differ in across regions and\n",
            "industries. Philosophically, we only use factors that have sound fundamental rationales, e.g. risk-based explanations\n",
            "based on economic rationales or those rooted in structural human behaviour, and all of our signals need to have proven\n",
            "ability to explain returns and risks in equity markets. We are hesitant to include purely data-driven signals without\n",
            "any fundamental/economic rational, as the risk of datamining and model overfitting is high.\n",
            "========================================================================\n"
          ]
        }
      ]
    }
  ]
}