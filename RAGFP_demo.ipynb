{
  "nbformat": 4,
  "nbformat_minor": 0,
  "metadata": {
    "colab": {
      "provenance": [],
      "mount_file_id": "https://github.com/timob0/rag/blob/main/RAGFP_demo.ipynb",
      "authorship_tag": "ABX9TyNJ+BfBu/npHNl4A4aRlMpq",
      "include_colab_link": true
    },
    "kernelspec": {
      "name": "python3",
      "display_name": "Python 3"
    },
    "language_info": {
      "name": "python"
    },
    "widgets": {
      "application/vnd.jupyter.widget-state+json": {
        "e047c53fae0346229830e4a1d9187ac8": {
          "model_module": "@jupyter-widgets/controls",
          "model_name": "HBoxModel",
          "model_module_version": "1.5.0",
          "state": {
            "_dom_classes": [],
            "_model_module": "@jupyter-widgets/controls",
            "_model_module_version": "1.5.0",
            "_model_name": "HBoxModel",
            "_view_count": null,
            "_view_module": "@jupyter-widgets/controls",
            "_view_module_version": "1.5.0",
            "_view_name": "HBoxView",
            "box_style": "",
            "children": [
              "IPY_MODEL_ce95fec9d4b04596b2c8659b8ddd3279",
              "IPY_MODEL_231daa9bd715434498c614f3d286420e",
              "IPY_MODEL_d344d93010244078bffea87183db48bc"
            ],
            "layout": "IPY_MODEL_cfc14e57087340f181bfb77b0215b897"
          }
        },
        "ce95fec9d4b04596b2c8659b8ddd3279": {
          "model_module": "@jupyter-widgets/controls",
          "model_name": "HTMLModel",
          "model_module_version": "1.5.0",
          "state": {
            "_dom_classes": [],
            "_model_module": "@jupyter-widgets/controls",
            "_model_module_version": "1.5.0",
            "_model_name": "HTMLModel",
            "_view_count": null,
            "_view_module": "@jupyter-widgets/controls",
            "_view_module_version": "1.5.0",
            "_view_name": "HTMLView",
            "description": "",
            "description_tooltip": null,
            "layout": "IPY_MODEL_0bb1fd1670ae4f2baa204330388f5c69",
            "placeholder": "​",
            "style": "IPY_MODEL_e659738d17fb40e8bc4ca5b28c8ba012",
            "value": "100%"
          }
        },
        "231daa9bd715434498c614f3d286420e": {
          "model_module": "@jupyter-widgets/controls",
          "model_name": "FloatProgressModel",
          "model_module_version": "1.5.0",
          "state": {
            "_dom_classes": [],
            "_model_module": "@jupyter-widgets/controls",
            "_model_module_version": "1.5.0",
            "_model_name": "FloatProgressModel",
            "_view_count": null,
            "_view_module": "@jupyter-widgets/controls",
            "_view_module_version": "1.5.0",
            "_view_name": "ProgressView",
            "bar_style": "success",
            "description": "",
            "description_tooltip": null,
            "layout": "IPY_MODEL_dc4726a296f246ad8428cfe769ca0fce",
            "max": 6,
            "min": 0,
            "orientation": "horizontal",
            "style": "IPY_MODEL_4fb825d45ba84c018937881fe16f4f93",
            "value": 6
          }
        },
        "d344d93010244078bffea87183db48bc": {
          "model_module": "@jupyter-widgets/controls",
          "model_name": "HTMLModel",
          "model_module_version": "1.5.0",
          "state": {
            "_dom_classes": [],
            "_model_module": "@jupyter-widgets/controls",
            "_model_module_version": "1.5.0",
            "_model_name": "HTMLModel",
            "_view_count": null,
            "_view_module": "@jupyter-widgets/controls",
            "_view_module_version": "1.5.0",
            "_view_name": "HTMLView",
            "description": "",
            "description_tooltip": null,
            "layout": "IPY_MODEL_9b29c67b38f6400aa1f3c293231227d3",
            "placeholder": "​",
            "style": "IPY_MODEL_0f8f2869d7fa4188b40bc73a8c1d806b",
            "value": " 6/6 [00:05&lt;00:00,  1.35it/s]"
          }
        },
        "cfc14e57087340f181bfb77b0215b897": {
          "model_module": "@jupyter-widgets/base",
          "model_name": "LayoutModel",
          "model_module_version": "1.2.0",
          "state": {
            "_model_module": "@jupyter-widgets/base",
            "_model_module_version": "1.2.0",
            "_model_name": "LayoutModel",
            "_view_count": null,
            "_view_module": "@jupyter-widgets/base",
            "_view_module_version": "1.2.0",
            "_view_name": "LayoutView",
            "align_content": null,
            "align_items": null,
            "align_self": null,
            "border": null,
            "bottom": null,
            "display": null,
            "flex": null,
            "flex_flow": null,
            "grid_area": null,
            "grid_auto_columns": null,
            "grid_auto_flow": null,
            "grid_auto_rows": null,
            "grid_column": null,
            "grid_gap": null,
            "grid_row": null,
            "grid_template_areas": null,
            "grid_template_columns": null,
            "grid_template_rows": null,
            "height": null,
            "justify_content": null,
            "justify_items": null,
            "left": null,
            "margin": null,
            "max_height": null,
            "max_width": null,
            "min_height": null,
            "min_width": null,
            "object_fit": null,
            "object_position": null,
            "order": null,
            "overflow": null,
            "overflow_x": null,
            "overflow_y": null,
            "padding": null,
            "right": null,
            "top": null,
            "visibility": null,
            "width": null
          }
        },
        "0bb1fd1670ae4f2baa204330388f5c69": {
          "model_module": "@jupyter-widgets/base",
          "model_name": "LayoutModel",
          "model_module_version": "1.2.0",
          "state": {
            "_model_module": "@jupyter-widgets/base",
            "_model_module_version": "1.2.0",
            "_model_name": "LayoutModel",
            "_view_count": null,
            "_view_module": "@jupyter-widgets/base",
            "_view_module_version": "1.2.0",
            "_view_name": "LayoutView",
            "align_content": null,
            "align_items": null,
            "align_self": null,
            "border": null,
            "bottom": null,
            "display": null,
            "flex": null,
            "flex_flow": null,
            "grid_area": null,
            "grid_auto_columns": null,
            "grid_auto_flow": null,
            "grid_auto_rows": null,
            "grid_column": null,
            "grid_gap": null,
            "grid_row": null,
            "grid_template_areas": null,
            "grid_template_columns": null,
            "grid_template_rows": null,
            "height": null,
            "justify_content": null,
            "justify_items": null,
            "left": null,
            "margin": null,
            "max_height": null,
            "max_width": null,
            "min_height": null,
            "min_width": null,
            "object_fit": null,
            "object_position": null,
            "order": null,
            "overflow": null,
            "overflow_x": null,
            "overflow_y": null,
            "padding": null,
            "right": null,
            "top": null,
            "visibility": null,
            "width": null
          }
        },
        "e659738d17fb40e8bc4ca5b28c8ba012": {
          "model_module": "@jupyter-widgets/controls",
          "model_name": "DescriptionStyleModel",
          "model_module_version": "1.5.0",
          "state": {
            "_model_module": "@jupyter-widgets/controls",
            "_model_module_version": "1.5.0",
            "_model_name": "DescriptionStyleModel",
            "_view_count": null,
            "_view_module": "@jupyter-widgets/base",
            "_view_module_version": "1.2.0",
            "_view_name": "StyleView",
            "description_width": ""
          }
        },
        "dc4726a296f246ad8428cfe769ca0fce": {
          "model_module": "@jupyter-widgets/base",
          "model_name": "LayoutModel",
          "model_module_version": "1.2.0",
          "state": {
            "_model_module": "@jupyter-widgets/base",
            "_model_module_version": "1.2.0",
            "_model_name": "LayoutModel",
            "_view_count": null,
            "_view_module": "@jupyter-widgets/base",
            "_view_module_version": "1.2.0",
            "_view_name": "LayoutView",
            "align_content": null,
            "align_items": null,
            "align_self": null,
            "border": null,
            "bottom": null,
            "display": null,
            "flex": null,
            "flex_flow": null,
            "grid_area": null,
            "grid_auto_columns": null,
            "grid_auto_flow": null,
            "grid_auto_rows": null,
            "grid_column": null,
            "grid_gap": null,
            "grid_row": null,
            "grid_template_areas": null,
            "grid_template_columns": null,
            "grid_template_rows": null,
            "height": null,
            "justify_content": null,
            "justify_items": null,
            "left": null,
            "margin": null,
            "max_height": null,
            "max_width": null,
            "min_height": null,
            "min_width": null,
            "object_fit": null,
            "object_position": null,
            "order": null,
            "overflow": null,
            "overflow_x": null,
            "overflow_y": null,
            "padding": null,
            "right": null,
            "top": null,
            "visibility": null,
            "width": null
          }
        },
        "4fb825d45ba84c018937881fe16f4f93": {
          "model_module": "@jupyter-widgets/controls",
          "model_name": "ProgressStyleModel",
          "model_module_version": "1.5.0",
          "state": {
            "_model_module": "@jupyter-widgets/controls",
            "_model_module_version": "1.5.0",
            "_model_name": "ProgressStyleModel",
            "_view_count": null,
            "_view_module": "@jupyter-widgets/base",
            "_view_module_version": "1.2.0",
            "_view_name": "StyleView",
            "bar_color": null,
            "description_width": ""
          }
        },
        "9b29c67b38f6400aa1f3c293231227d3": {
          "model_module": "@jupyter-widgets/base",
          "model_name": "LayoutModel",
          "model_module_version": "1.2.0",
          "state": {
            "_model_module": "@jupyter-widgets/base",
            "_model_module_version": "1.2.0",
            "_model_name": "LayoutModel",
            "_view_count": null,
            "_view_module": "@jupyter-widgets/base",
            "_view_module_version": "1.2.0",
            "_view_name": "LayoutView",
            "align_content": null,
            "align_items": null,
            "align_self": null,
            "border": null,
            "bottom": null,
            "display": null,
            "flex": null,
            "flex_flow": null,
            "grid_area": null,
            "grid_auto_columns": null,
            "grid_auto_flow": null,
            "grid_auto_rows": null,
            "grid_column": null,
            "grid_gap": null,
            "grid_row": null,
            "grid_template_areas": null,
            "grid_template_columns": null,
            "grid_template_rows": null,
            "height": null,
            "justify_content": null,
            "justify_items": null,
            "left": null,
            "margin": null,
            "max_height": null,
            "max_width": null,
            "min_height": null,
            "min_width": null,
            "object_fit": null,
            "object_position": null,
            "order": null,
            "overflow": null,
            "overflow_x": null,
            "overflow_y": null,
            "padding": null,
            "right": null,
            "top": null,
            "visibility": null,
            "width": null
          }
        },
        "0f8f2869d7fa4188b40bc73a8c1d806b": {
          "model_module": "@jupyter-widgets/controls",
          "model_name": "DescriptionStyleModel",
          "model_module_version": "1.5.0",
          "state": {
            "_model_module": "@jupyter-widgets/controls",
            "_model_module_version": "1.5.0",
            "_model_name": "DescriptionStyleModel",
            "_view_count": null,
            "_view_module": "@jupyter-widgets/base",
            "_view_module_version": "1.2.0",
            "_view_name": "StyleView",
            "description_width": ""
          }
        }
      }
    }
  },
  "cells": [
    {
      "cell_type": "markdown",
      "metadata": {
        "id": "view-in-github",
        "colab_type": "text"
      },
      "source": [
        "<a href=\"https://colab.research.google.com/github/timob0/rag/blob/main/RAGFP_demo.ipynb\" target=\"_parent\"><img src=\"https://colab.research.google.com/assets/colab-badge.svg\" alt=\"Open In Colab\"/></a>"
      ]
    },
    {
      "cell_type": "markdown",
      "source": [
        "Load required libraries"
      ],
      "metadata": {
        "id": "ef-cz4rmNBh-"
      }
    },
    {
      "cell_type": "code",
      "source": [
        "%%capture\n",
        "!pip install chromadb tqdm fireworks-ai python-dotenv pandas\n",
        "!pip install sentence-transformers\n",
        "\n",
        "import fireworks.client\n",
        "import os\n",
        "import dotenv\n",
        "import chromadb\n",
        "import json\n",
        "from tqdm.auto import tqdm\n",
        "import pandas as pd\n",
        "import random\n",
        "from google.colab import userdata\n",
        "from google.colab import drive"
      ],
      "metadata": {
        "id": "lG7oQH6DMwN_"
      },
      "execution_count": 1,
      "outputs": []
    },
    {
      "cell_type": "code",
      "source": [
        "# Retrieve Fireworks AI API key\n",
        "dotenv.load_dotenv()\n",
        "fireworks.client.api_key = userdata.get('FW_API_KEY')\n",
        "\n",
        "# Mount Google Drive with the RFP database\n",
        "drive.mount('/content/drive')\n",
        "\n",
        "!ls \"/content/drive/My Drive/Colab Notebooks\""
      ],
      "metadata": {
        "id": "V_3CVd7-NVvN",
        "colab": {
          "base_uri": "https://localhost:8080/"
        },
        "outputId": "438cf698-63d6-4875-f87a-5e2ab871ae10"
      },
      "execution_count": 2,
      "outputs": [
        {
          "output_type": "stream",
          "name": "stdout",
          "text": [
            "Drive already mounted at /content/drive; to attempt to forcibly remount, call drive.mount(\"/content/drive\", force_remount=True).\n",
            " archiv\t\t        RAG_demo.ipynb\t rfp_data.xlsx\t       RFP_demo.ipynb\n",
            " ml-potw-10232023.csv   rfp_data.csv\t'RFP_demo (1).ipynb'\n"
          ]
        }
      ]
    },
    {
      "cell_type": "markdown",
      "source": [
        "A function to get completions from the fireworks LLM"
      ],
      "metadata": {
        "id": "Ls4MKbOAOBGg"
      }
    },
    {
      "cell_type": "code",
      "source": [
        "def get_completion(prompt, model=None, max_tokens=50, p_temperature=0):\n",
        "\n",
        "    fw_model_dir = \"accounts/fireworks/models/\"\n",
        "\n",
        "    if model is None:\n",
        "        model = fw_model_dir + \"llama-v3p1-8b-instruct\"\n",
        "    else:\n",
        "        model = fw_model_dir + model\n",
        "\n",
        "    completion = fireworks.client.Completion.create(\n",
        "        model=model,\n",
        "        prompt=prompt,\n",
        "        max_tokens=max_tokens,\n",
        "        temperature=p_temperature\n",
        "    )\n",
        "\n",
        "    return completion.choices[0].text"
      ],
      "metadata": {
        "id": "l4TOAq_PN_kp"
      },
      "execution_count": 27,
      "outputs": []
    },
    {
      "cell_type": "markdown",
      "source": [
        "Test connectivity to the mistral LLM"
      ],
      "metadata": {
        "id": "HsTXsIVBgHMJ"
      }
    },
    {
      "cell_type": "code",
      "source": [
        "mistral_llm = \"mixtral-8x7b-instruct\"\n",
        "\n",
        "get_completion(\"[INST]Tell me 2 jokes[/INST]\", model=mistral_llm)"
      ],
      "metadata": {
        "colab": {
          "base_uri": "https://localhost:8080/",
          "height": 35
        },
        "id": "Ugp1-R3eQMRf",
        "outputId": "cc039e68-318d-42e1-941a-40da0694fe0a"
      },
      "execution_count": 4,
      "outputs": [
        {
          "output_type": "execute_result",
          "data": {
            "text/plain": [
              "\" Sure, here are two jokes for you:\\n\\n1. Why don't scientists trust atoms?\\n\\nBecause they make up everything!\\n\\n1. Why did the scarecrow win an award?\\n\\nBecause he was outstanding\""
            ],
            "application/vnd.google.colaboratory.intrinsic+json": {
              "type": "string"
            }
          },
          "metadata": {},
          "execution_count": 4
        }
      ]
    },
    {
      "cell_type": "markdown",
      "source": [
        "Usecase: Read a database with RFP Questions and Answers to augment the text generation using the LLM. See: retrieval augmented generation.\n"
      ],
      "metadata": {
        "id": "2Uc9wKU6R5EL"
      }
    },
    {
      "cell_type": "code",
      "source": [
        "# load dataset from google drive and convert to dataframe\n",
        "# dataset contains column names\n",
        "rfp_file = pd.read_csv('/content/drive/My Drive/Colab Notebooks/rfp_data.csv', header=0, delimiter=\";\")\n",
        "\n",
        "# remove rows with empty titles or descriptions\n",
        "rfp_qa = rfp_file.dropna(subset=[\"Question\", \"Answer\"])\n",
        "rfp_qa.tail()"
      ],
      "metadata": {
        "id": "4xzDv7_NRs3A",
        "colab": {
          "base_uri": "https://localhost:8080/",
          "height": 204
        },
        "outputId": "be007d56-f30d-4fe0-960b-63fcf7834e9b"
      },
      "execution_count": 6,
      "outputs": [
        {
          "output_type": "execute_result",
          "data": {
            "text/plain": [
              "                Theme        Source Original_RFP  \\\n",
              "248           General  Summary.docx          AP7   \n",
              "249  Global Enhanced   Summary.docx          AP7   \n",
              "250           General  Summary.docx          AP7   \n",
              "251  Global Enhanced   Summary.docx          AP7   \n",
              "252           General  Summary.docx          AP7   \n",
              "\n",
              "                                              Question  \\\n",
              "248      Please describe your reconciliation process.    \n",
              "249  Please provide details on the offered portfoli...   \n",
              "250  Are the index license fees included in the por...   \n",
              "251  Please confirm that the offered fees are exhau...   \n",
              "252  Do you distinguish between fees during the inv...   \n",
              "\n",
              "                                                Answer  \n",
              "248  Invesco’s Global Reconciliation Services (GRS)...  \n",
              "249  We apply the following staggered fee schedule:...  \n",
              "250                                               Yes.  \n",
              "251                                               Yes.  \n",
              "252                                                No.  "
            ],
            "text/html": [
              "\n",
              "  <div id=\"df-cb115b42-4b3b-41c1-be83-9a18eb393ab0\" class=\"colab-df-container\">\n",
              "    <div>\n",
              "<style scoped>\n",
              "    .dataframe tbody tr th:only-of-type {\n",
              "        vertical-align: middle;\n",
              "    }\n",
              "\n",
              "    .dataframe tbody tr th {\n",
              "        vertical-align: top;\n",
              "    }\n",
              "\n",
              "    .dataframe thead th {\n",
              "        text-align: right;\n",
              "    }\n",
              "</style>\n",
              "<table border=\"1\" class=\"dataframe\">\n",
              "  <thead>\n",
              "    <tr style=\"text-align: right;\">\n",
              "      <th></th>\n",
              "      <th>Theme</th>\n",
              "      <th>Source</th>\n",
              "      <th>Original_RFP</th>\n",
              "      <th>Question</th>\n",
              "      <th>Answer</th>\n",
              "    </tr>\n",
              "  </thead>\n",
              "  <tbody>\n",
              "    <tr>\n",
              "      <th>248</th>\n",
              "      <td>General</td>\n",
              "      <td>Summary.docx</td>\n",
              "      <td>AP7</td>\n",
              "      <td>Please describe your reconciliation process.</td>\n",
              "      <td>Invesco’s Global Reconciliation Services (GRS)...</td>\n",
              "    </tr>\n",
              "    <tr>\n",
              "      <th>249</th>\n",
              "      <td>Global Enhanced</td>\n",
              "      <td>Summary.docx</td>\n",
              "      <td>AP7</td>\n",
              "      <td>Please provide details on the offered portfoli...</td>\n",
              "      <td>We apply the following staggered fee schedule:...</td>\n",
              "    </tr>\n",
              "    <tr>\n",
              "      <th>250</th>\n",
              "      <td>General</td>\n",
              "      <td>Summary.docx</td>\n",
              "      <td>AP7</td>\n",
              "      <td>Are the index license fees included in the por...</td>\n",
              "      <td>Yes.</td>\n",
              "    </tr>\n",
              "    <tr>\n",
              "      <th>251</th>\n",
              "      <td>Global Enhanced</td>\n",
              "      <td>Summary.docx</td>\n",
              "      <td>AP7</td>\n",
              "      <td>Please confirm that the offered fees are exhau...</td>\n",
              "      <td>Yes.</td>\n",
              "    </tr>\n",
              "    <tr>\n",
              "      <th>252</th>\n",
              "      <td>General</td>\n",
              "      <td>Summary.docx</td>\n",
              "      <td>AP7</td>\n",
              "      <td>Do you distinguish between fees during the inv...</td>\n",
              "      <td>No.</td>\n",
              "    </tr>\n",
              "  </tbody>\n",
              "</table>\n",
              "</div>\n",
              "    <div class=\"colab-df-buttons\">\n",
              "\n",
              "  <div class=\"colab-df-container\">\n",
              "    <button class=\"colab-df-convert\" onclick=\"convertToInteractive('df-cb115b42-4b3b-41c1-be83-9a18eb393ab0')\"\n",
              "            title=\"Convert this dataframe to an interactive table.\"\n",
              "            style=\"display:none;\">\n",
              "\n",
              "  <svg xmlns=\"http://www.w3.org/2000/svg\" height=\"24px\" viewBox=\"0 -960 960 960\">\n",
              "    <path d=\"M120-120v-720h720v720H120Zm60-500h600v-160H180v160Zm220 220h160v-160H400v160Zm0 220h160v-160H400v160ZM180-400h160v-160H180v160Zm440 0h160v-160H620v160ZM180-180h160v-160H180v160Zm440 0h160v-160H620v160Z\"/>\n",
              "  </svg>\n",
              "    </button>\n",
              "\n",
              "  <style>\n",
              "    .colab-df-container {\n",
              "      display:flex;\n",
              "      gap: 12px;\n",
              "    }\n",
              "\n",
              "    .colab-df-convert {\n",
              "      background-color: #E8F0FE;\n",
              "      border: none;\n",
              "      border-radius: 50%;\n",
              "      cursor: pointer;\n",
              "      display: none;\n",
              "      fill: #1967D2;\n",
              "      height: 32px;\n",
              "      padding: 0 0 0 0;\n",
              "      width: 32px;\n",
              "    }\n",
              "\n",
              "    .colab-df-convert:hover {\n",
              "      background-color: #E2EBFA;\n",
              "      box-shadow: 0px 1px 2px rgba(60, 64, 67, 0.3), 0px 1px 3px 1px rgba(60, 64, 67, 0.15);\n",
              "      fill: #174EA6;\n",
              "    }\n",
              "\n",
              "    .colab-df-buttons div {\n",
              "      margin-bottom: 4px;\n",
              "    }\n",
              "\n",
              "    [theme=dark] .colab-df-convert {\n",
              "      background-color: #3B4455;\n",
              "      fill: #D2E3FC;\n",
              "    }\n",
              "\n",
              "    [theme=dark] .colab-df-convert:hover {\n",
              "      background-color: #434B5C;\n",
              "      box-shadow: 0px 1px 3px 1px rgba(0, 0, 0, 0.15);\n",
              "      filter: drop-shadow(0px 1px 2px rgba(0, 0, 0, 0.3));\n",
              "      fill: #FFFFFF;\n",
              "    }\n",
              "  </style>\n",
              "\n",
              "    <script>\n",
              "      const buttonEl =\n",
              "        document.querySelector('#df-cb115b42-4b3b-41c1-be83-9a18eb393ab0 button.colab-df-convert');\n",
              "      buttonEl.style.display =\n",
              "        google.colab.kernel.accessAllowed ? 'block' : 'none';\n",
              "\n",
              "      async function convertToInteractive(key) {\n",
              "        const element = document.querySelector('#df-cb115b42-4b3b-41c1-be83-9a18eb393ab0');\n",
              "        const dataTable =\n",
              "          await google.colab.kernel.invokeFunction('convertToInteractive',\n",
              "                                                    [key], {});\n",
              "        if (!dataTable) return;\n",
              "\n",
              "        const docLinkHtml = 'Like what you see? Visit the ' +\n",
              "          '<a target=\"_blank\" href=https://colab.research.google.com/notebooks/data_table.ipynb>data table notebook</a>'\n",
              "          + ' to learn more about interactive tables.';\n",
              "        element.innerHTML = '';\n",
              "        dataTable['output_type'] = 'display_data';\n",
              "        await google.colab.output.renderOutput(dataTable, element);\n",
              "        const docLink = document.createElement('div');\n",
              "        docLink.innerHTML = docLinkHtml;\n",
              "        element.appendChild(docLink);\n",
              "      }\n",
              "    </script>\n",
              "  </div>\n",
              "\n",
              "\n",
              "<div id=\"df-8b2d957f-dbc0-4cd5-8562-c2217187a77c\">\n",
              "  <button class=\"colab-df-quickchart\" onclick=\"quickchart('df-8b2d957f-dbc0-4cd5-8562-c2217187a77c')\"\n",
              "            title=\"Suggest charts\"\n",
              "            style=\"display:none;\">\n",
              "\n",
              "<svg xmlns=\"http://www.w3.org/2000/svg\" height=\"24px\"viewBox=\"0 0 24 24\"\n",
              "     width=\"24px\">\n",
              "    <g>\n",
              "        <path d=\"M19 3H5c-1.1 0-2 .9-2 2v14c0 1.1.9 2 2 2h14c1.1 0 2-.9 2-2V5c0-1.1-.9-2-2-2zM9 17H7v-7h2v7zm4 0h-2V7h2v10zm4 0h-2v-4h2v4z\"/>\n",
              "    </g>\n",
              "</svg>\n",
              "  </button>\n",
              "\n",
              "<style>\n",
              "  .colab-df-quickchart {\n",
              "      --bg-color: #E8F0FE;\n",
              "      --fill-color: #1967D2;\n",
              "      --hover-bg-color: #E2EBFA;\n",
              "      --hover-fill-color: #174EA6;\n",
              "      --disabled-fill-color: #AAA;\n",
              "      --disabled-bg-color: #DDD;\n",
              "  }\n",
              "\n",
              "  [theme=dark] .colab-df-quickchart {\n",
              "      --bg-color: #3B4455;\n",
              "      --fill-color: #D2E3FC;\n",
              "      --hover-bg-color: #434B5C;\n",
              "      --hover-fill-color: #FFFFFF;\n",
              "      --disabled-bg-color: #3B4455;\n",
              "      --disabled-fill-color: #666;\n",
              "  }\n",
              "\n",
              "  .colab-df-quickchart {\n",
              "    background-color: var(--bg-color);\n",
              "    border: none;\n",
              "    border-radius: 50%;\n",
              "    cursor: pointer;\n",
              "    display: none;\n",
              "    fill: var(--fill-color);\n",
              "    height: 32px;\n",
              "    padding: 0;\n",
              "    width: 32px;\n",
              "  }\n",
              "\n",
              "  .colab-df-quickchart:hover {\n",
              "    background-color: var(--hover-bg-color);\n",
              "    box-shadow: 0 1px 2px rgba(60, 64, 67, 0.3), 0 1px 3px 1px rgba(60, 64, 67, 0.15);\n",
              "    fill: var(--button-hover-fill-color);\n",
              "  }\n",
              "\n",
              "  .colab-df-quickchart-complete:disabled,\n",
              "  .colab-df-quickchart-complete:disabled:hover {\n",
              "    background-color: var(--disabled-bg-color);\n",
              "    fill: var(--disabled-fill-color);\n",
              "    box-shadow: none;\n",
              "  }\n",
              "\n",
              "  .colab-df-spinner {\n",
              "    border: 2px solid var(--fill-color);\n",
              "    border-color: transparent;\n",
              "    border-bottom-color: var(--fill-color);\n",
              "    animation:\n",
              "      spin 1s steps(1) infinite;\n",
              "  }\n",
              "\n",
              "  @keyframes spin {\n",
              "    0% {\n",
              "      border-color: transparent;\n",
              "      border-bottom-color: var(--fill-color);\n",
              "      border-left-color: var(--fill-color);\n",
              "    }\n",
              "    20% {\n",
              "      border-color: transparent;\n",
              "      border-left-color: var(--fill-color);\n",
              "      border-top-color: var(--fill-color);\n",
              "    }\n",
              "    30% {\n",
              "      border-color: transparent;\n",
              "      border-left-color: var(--fill-color);\n",
              "      border-top-color: var(--fill-color);\n",
              "      border-right-color: var(--fill-color);\n",
              "    }\n",
              "    40% {\n",
              "      border-color: transparent;\n",
              "      border-right-color: var(--fill-color);\n",
              "      border-top-color: var(--fill-color);\n",
              "    }\n",
              "    60% {\n",
              "      border-color: transparent;\n",
              "      border-right-color: var(--fill-color);\n",
              "    }\n",
              "    80% {\n",
              "      border-color: transparent;\n",
              "      border-right-color: var(--fill-color);\n",
              "      border-bottom-color: var(--fill-color);\n",
              "    }\n",
              "    90% {\n",
              "      border-color: transparent;\n",
              "      border-bottom-color: var(--fill-color);\n",
              "    }\n",
              "  }\n",
              "</style>\n",
              "\n",
              "  <script>\n",
              "    async function quickchart(key) {\n",
              "      const quickchartButtonEl =\n",
              "        document.querySelector('#' + key + ' button');\n",
              "      quickchartButtonEl.disabled = true;  // To prevent multiple clicks.\n",
              "      quickchartButtonEl.classList.add('colab-df-spinner');\n",
              "      try {\n",
              "        const charts = await google.colab.kernel.invokeFunction(\n",
              "            'suggestCharts', [key], {});\n",
              "      } catch (error) {\n",
              "        console.error('Error during call to suggestCharts:', error);\n",
              "      }\n",
              "      quickchartButtonEl.classList.remove('colab-df-spinner');\n",
              "      quickchartButtonEl.classList.add('colab-df-quickchart-complete');\n",
              "    }\n",
              "    (() => {\n",
              "      let quickchartButtonEl =\n",
              "        document.querySelector('#df-8b2d957f-dbc0-4cd5-8562-c2217187a77c button');\n",
              "      quickchartButtonEl.style.display =\n",
              "        google.colab.kernel.accessAllowed ? 'block' : 'none';\n",
              "    })();\n",
              "  </script>\n",
              "</div>\n",
              "\n",
              "    </div>\n",
              "  </div>\n"
            ],
            "application/vnd.google.colaboratory.intrinsic+json": {
              "type": "dataframe",
              "summary": "{\n  \"name\": \"rfp_qa\",\n  \"rows\": 5,\n  \"fields\": [\n    {\n      \"column\": \"Theme\",\n      \"properties\": {\n        \"dtype\": \"category\",\n        \"num_unique_values\": 2,\n        \"samples\": [\n          \"Global Enhanced \",\n          \"General\"\n        ],\n        \"semantic_type\": \"\",\n        \"description\": \"\"\n      }\n    },\n    {\n      \"column\": \"Source\",\n      \"properties\": {\n        \"dtype\": \"category\",\n        \"num_unique_values\": 1,\n        \"samples\": [\n          \"Summary.docx\"\n        ],\n        \"semantic_type\": \"\",\n        \"description\": \"\"\n      }\n    },\n    {\n      \"column\": \"Original_RFP\",\n      \"properties\": {\n        \"dtype\": \"category\",\n        \"num_unique_values\": 1,\n        \"samples\": [\n          \"AP7\"\n        ],\n        \"semantic_type\": \"\",\n        \"description\": \"\"\n      }\n    },\n    {\n      \"column\": \"Question\",\n      \"properties\": {\n        \"dtype\": \"string\",\n        \"num_unique_values\": 5,\n        \"samples\": [\n          \"Please provide details on the offered portfolio management fee.\"\n        ],\n        \"semantic_type\": \"\",\n        \"description\": \"\"\n      }\n    },\n    {\n      \"column\": \"Answer\",\n      \"properties\": {\n        \"dtype\": \"string\",\n        \"num_unique_values\": 4,\n        \"samples\": [\n          \"We apply the following staggered fee schedule:\\n\\nFirst SEK 2.5bn\\t15 basis points p.a.\\nNext SEK 2.5bn\\t12 basis points p.a.\\nThereafter\\t\\t11 basis points p.a.\\n\\nAbove staggered portfolio management fee assumes 0 (zero) performance fee. However, if a performance fee is preferred we can provide such quote on request.\"\n        ],\n        \"semantic_type\": \"\",\n        \"description\": \"\"\n      }\n    }\n  ]\n}"
            }
          },
          "metadata": {},
          "execution_count": 6
        }
      ]
    },
    {
      "cell_type": "code",
      "source": [
        "# convert dataframe to list of dicts with Question and Answer columns only\n",
        "rfp_qa_dict = rfp_qa.to_dict(orient=\"records\")\n",
        "rfp_qa_dict[0]"
      ],
      "metadata": {
        "id": "BKOdXNWdSDBx",
        "colab": {
          "base_uri": "https://localhost:8080/"
        },
        "outputId": "5b793e9f-9a48-4a29-ee03-4e03ff6b5df8"
      },
      "execution_count": 10,
      "outputs": [
        {
          "output_type": "execute_result",
          "data": {
            "text/plain": [
              "{'Theme': 'General',\n",
              " 'Source': 'RFP questions answers.docx',\n",
              " 'Original_RFP': nan,\n",
              " 'Question': 'How is a systematic investment process developed at Invesco?',\n",
              " 'Answer': 'The IQS team is committed to adding value for clients through the systematic application of factor investing. \\nIQS is convinced that certain factors such as Value, Momentum and Quality explain wide parts of both returns and risks in equity markets. However, while individual factors may deliver better returns than traditional market capitalization weighted benchmarks in the long run, short term drawdowns of single factors may be severe and consistently successful factor timing has proven to be challenging if not impossible. Hence, the team has very successfully been implementing broadly diversified multi-factor strategies for 40 years, seeking to capture factor premiums irrespective of the prevailing market environment and timing considerations.\\nThe first step of the investment process is the definition of the investment universe, for this strategy the global market. In addition to meeting minimum liquidity and capitalization requirements, a stock must be listed on a stock exchange that is within the benchmark universe. Furthermore, the definition of the investment universe already takes client-specific restrictions like exclusions into account. \\nIn the second step, stocks are ranked according to each stock’s attractiveness with respect to the Value, Momentum and Quality factors. These rankings are based on standardized factor signals. To achieve comparability, the process ranks within industry groups within regions, i.e., on an industry-neutral basis by region. These rankings are standardized and transformed into beta-neutral single factor model portfolios. \\nIn step three, these single factor model portfolios are weighted and combined in order to obtain an overall multi-factor model portfolio. The process applies an equal-risk contribution (ERC) weighting scheme that ensures broad factor diversification at any point in time and avoids individual factors loading up excessively on risk even in times of market stress. The resulting model portfolio is the most optimal multi-factor portfolio.\\nStep four determines a corresponding risk forecast for each stock in the universe by using a proprietary risk model based on Axioma that uses the same multi-factor building blocks as the factor model in order to provide alignment of return factor and risk view. Furthermore, portfolio constraints like maximum active weights in single stocks, countries, sectors or industries are defined.\\nIn the final step – during the portfolio construction process – the Global Enhanced portfolio is optimized to track the multi-factor model portfolio as closely as possible, subject to the portfolio constraints. This step establishes high sensitivities of the final portfolio to the factors Value, Momentum and Quality while rigorously managing risks. This explicitly includes consideration of transaction costs. '}"
            ]
          },
          "metadata": {},
          "execution_count": 10
        }
      ]
    },
    {
      "cell_type": "markdown",
      "source": [
        "Install Chroma DB as a vector database to store word embeddings."
      ],
      "metadata": {
        "id": "5_xx29YSg6mB"
      }
    },
    {
      "cell_type": "code",
      "source": [
        "from chromadb import Documents, EmbeddingFunction, Embeddings\n",
        "from sentence_transformers import SentenceTransformer\n",
        "embedding_model = SentenceTransformer('all-MiniLM-L6-v2')\n",
        "\n",
        "class MyEmbeddingFunction(EmbeddingFunction):\n",
        "    def __call__(self, input: Documents) -> Embeddings:\n",
        "        batch_embeddings = embedding_model.encode(input)\n",
        "        return batch_embeddings.tolist()\n",
        "\n",
        "embed_fn = MyEmbeddingFunction()\n",
        "\n",
        "# Initialize the chromadb directory, and client.\n",
        "client = chromadb.PersistentClient(path=\"./chromadb\")\n",
        "\n",
        "# create collection\n",
        "client.delete_collection(name=f\"rfp-materials-2024\")\n",
        "collection = client.create_collection(name=f\"rfp-materials-2024\")"
      ],
      "metadata": {
        "id": "wHyPdw3MSLzo"
      },
      "execution_count": 17,
      "outputs": []
    },
    {
      "cell_type": "code",
      "source": [
        "# Generate embeddings, and index titles in batches\n",
        "batch_size = 50\n",
        "\n",
        "# loop through batches and generated + store embeddings\n",
        "for i in tqdm(range(0, len(rfp_qa_dict), batch_size)):\n",
        "\n",
        "    i_end = min(i + batch_size, len(rfp_qa_dict))\n",
        "    batch = rfp_qa_dict[i : i + batch_size]\n",
        "\n",
        "    # Replace empty strings (shouldn't happen)\n",
        "    batch_questions = [str(paper[\"Question\"]) if str(paper[\"Question\"]) != \"\" else \"No Question\" for paper in batch]\n",
        "    batch_answers = [str(paper[\"Answer\"]) if str(paper[\"Answer\"]) != \"\" else \"No Answer\" for paper in batch]\n",
        "    batch_ids = [str(sum(ord(c) + random.randint(1, 10000) for c in paper[\"Question\"])) for paper in batch]\n",
        "    batch_metadata = [dict(source=paper[\"Source\"],\n",
        "                           theme=paper['Theme'],\n",
        "                           rfp=paper['Original_RFP']\n",
        "                           )\n",
        "                           for paper in batch]\n",
        "\n",
        "    # generate embeddings\n",
        "    batch_embeddings = embedding_model.encode(batch_questions)\n",
        "\n",
        "    # upsert to chromadb\n",
        "    collection.upsert(\n",
        "        ids=batch_ids,\n",
        "        metadatas=batch_metadata,\n",
        "        documents=batch_answers,\n",
        "        embeddings=batch_embeddings.tolist(),\n",
        "    )"
      ],
      "metadata": {
        "colab": {
          "base_uri": "https://localhost:8080/",
          "height": 49,
          "referenced_widgets": [
            "e047c53fae0346229830e4a1d9187ac8",
            "ce95fec9d4b04596b2c8659b8ddd3279",
            "231daa9bd715434498c614f3d286420e",
            "d344d93010244078bffea87183db48bc",
            "cfc14e57087340f181bfb77b0215b897",
            "0bb1fd1670ae4f2baa204330388f5c69",
            "e659738d17fb40e8bc4ca5b28c8ba012",
            "dc4726a296f246ad8428cfe769ca0fce",
            "4fb825d45ba84c018937881fe16f4f93",
            "9b29c67b38f6400aa1f3c293231227d3",
            "0f8f2869d7fa4188b40bc73a8c1d806b"
          ]
        },
        "id": "0hXkQQBWSgpH",
        "outputId": "c990bcac-e160-4f47-bf7e-04ba10e277bf"
      },
      "execution_count": 18,
      "outputs": [
        {
          "output_type": "display_data",
          "data": {
            "text/plain": [
              "  0%|          | 0/6 [00:00<?, ?it/s]"
            ],
            "application/vnd.jupyter.widget-view+json": {
              "version_major": 2,
              "version_minor": 0,
              "model_id": "e047c53fae0346229830e4a1d9187ac8"
            }
          },
          "metadata": {}
        }
      ]
    },
    {
      "cell_type": "markdown",
      "source": [
        "Testing the text retriever, this will retrieve output based on the data found in the vector database."
      ],
      "metadata": {
        "id": "eRPdWwvuS9Mg"
      }
    },
    {
      "cell_type": "code",
      "source": [
        "collection = client.get_or_create_collection(\n",
        "    name=f\"rfp-materials-2024\",\n",
        "    embedding_function=embed_fn\n",
        ")\n",
        "\n",
        "retriever_results = collection.query(\n",
        "    query_texts=[\"What are ESG factors?\"],\n",
        "    n_results=2,\n",
        ")\n",
        "\n",
        "print(retriever_results[\"documents\"])\n",
        "print(retriever_results[\"metadatas\"])"
      ],
      "metadata": {
        "id": "2rSPeBEJS3-T",
        "colab": {
          "base_uri": "https://localhost:8080/"
        },
        "outputId": "4e56cf36-f7e4-43b3-8287-c6c479e0e3f6"
      },
      "execution_count": 23,
      "outputs": [
        {
          "output_type": "stream",
          "name": "stdout",
          "text": [
            "[['In addition to the standard ESG integration, IQS can implement individual ESG requirements in numerous respects:\\n\\n-\\tPositive criteria: By applying positive criteria, companies are identified that display excellence in sustainable management and sustainable products or processes. They fulfil ecological and social requirements particularly well, ranging from climate efficiency and low water consumption to labour safety and satisfaction.\\n-\\tExclusion and negative criteria: By applying these criteria, companies, sectors or countries can be excluded from the investment universe which fail to fulfil certain ESG criteria or that violate international norms and standards according to the definitions of the International Labour Organisation (ILO), the OECD or the United Nations. \\n\\nThe investment team is able to define a set of ESG criteria in close co-operation with the client. Exclusion criteria and negative criteria can be used to eliminate companies that fail to meet certain ESG criteria, with positive criteria, companies can be identified, which are particularly characterised by sustainable economic development, positive products or processes. With a best-in-class approach companies are selected for the portfolio if they are leaders in their industries with respect to ecological and social standards. For a thorough ESG assessment of companies the IQS team utilizes a variety of internal and external data sources, incl. MSCI, ISS, Vigeo Eiris, and others.\\n\\nFurthermore, IQS offers research driven ESG solutions which allows to align the ESG needs of clients with the IQS multi-factor investment approach. A recent example is the work on a multi-factor low carbon solution for a UK Local Government Pension Scheme as well as a research project about temperature reduction in portfolios during the portfolio construction (Kolle, J., Lohre, H., Radatz, E., Rother, C. (2022). Factor Investing in Paris: Managing Climate change risk in portfolio construction, Forthcoming at Journal Of Investment Management.)', 'Adverse ESG momentum\\nAt the intersection of return and risk is the case of stocks that experience severe downgrades to their ESG scores. These tend to be companies that have delivered highly disappointing news that caused the market to reassess the companies’ core processes and values. Historically, IQS found evidence that these companies continue to underperform after downgrade events and based on the much higher importance attached to ESG today, the team expects this to have a greater impact going forward. IQS has therefore integrated sharp downgrades of ESG scores into its risk management and treats such stocks as exceptional. This means that for a period of at least six months, the team will disregard the calculated factor exposure of such stocks and sell them out of all strategies that are not managed to a tight tracking error. Since the inclusion of the ESG Adverse Momentum measure, several stocks have been placed on our exception list to avoid materialization of further ESG risks. ']]\n",
            "[[{'rfp': 'SJP', 'source': 'Summary.docx', 'theme': 'General'}, {'rfp': 'SJP', 'source': 'Summary.docx', 'theme': 'General'}]]\n"
          ]
        }
      ]
    },
    {
      "cell_type": "code",
      "source": [
        "# user query\n",
        "user_query = \"How is ESG integrated in portfolio construction?\"  # @param {type:\"string\"}\n",
        "user_theme = \"Global Enhanced\"  # @param {type:\"string\"}\n",
        "user_response_count = 4 # @param {type:\"slider\", min:1, max:5, step:1}\n",
        "user_response_temp = 0.1 # @param {type:\"slider\", min:0, max:1, step:0.1}\n",
        "user_response_toks = 50 # @param {type:\"slider\", min:50, max:5000, step:50}\n",
        "\n",
        "# query for user query\n",
        "results = collection.query(\n",
        "    query_texts=[user_query],\n",
        "    where={\"$or\": [{\"theme\": \"General\"}, {\"theme\": user_theme}]},\n",
        "    n_results=2,\n",
        ")\n",
        "\n",
        "# concatenate titles into a single string\n",
        "answers = '\\n'.join(results['documents'][0])\n",
        "\n",
        "prompt_template = f'''[INST]\n",
        "\n",
        "Your main task is to generate RFP_TEXT by summarizing the RFP_ANSWERS.\n",
        "\n",
        "You should mimic a style similar to the one in the QUESTION.\n",
        "\n",
        "QUESTION: {user_query}\n",
        "\n",
        "RFP_ANSWERS: {answers}\n",
        "\n",
        "RFP_TEXT:\n",
        "\n",
        "[/INST]\n",
        "'''\n",
        "\n",
        "model_response = get_completion(prompt_template, model=mistral_llm, max_tokens=user_response_toks, p_temperature=user_response_temp)\n",
        "\n",
        "# Print the suggestions.\n",
        "print(\"========================================================================\")\n",
        "print(\"Your query\")\n",
        "print(\"<<< \", user_query)\n",
        "print(\"========================================================================\")\n",
        "print()\n",
        "\n",
        "print(\"========================================================================\")\n",
        "print(\"Model generated answer:\")\n",
        "print(\"========================================================================\")\n",
        "print(\">>> \", model_response)\n",
        "print(\"========================================================================\")\n",
        "print()\n",
        "\n",
        "print(\"========================================================================\")\n",
        "print(\"Reference answers from RFP database:\")\n",
        "print(\"========================================================================\")\n",
        "print(answers)\n",
        "print(\"========================================================================\")"
      ],
      "metadata": {
        "id": "utT859zvTPjG",
        "colab": {
          "base_uri": "https://localhost:8080/"
        },
        "outputId": "5ba0d864-cee5-4800-e28e-55c635ebef79"
      },
      "execution_count": 34,
      "outputs": [
        {
          "output_type": "stream",
          "name": "stdout",
          "text": [
            "========================================================================\n",
            "Your query\n",
            "========================================================================\n",
            ">>>  How is ESG integrated in portfolio construction?\n",
            "========================================================================\n",
            "\n",
            "========================================================================\n",
            "Model generated answer:\n",
            "========================================================================\n",
            "Integration of ESG (Environmental, Social, and Governance) factors in portfolio construction is achieved by managing exposures at ESG Investment Solutions (IQS). IQS ensures that portfolios maintain a minimum or better E\n",
            "========================================================================\n",
            "\n",
            "========================================================================\n",
            "Reference answers from RFP database:\n",
            "========================================================================\n",
            "ESG exposure control\n",
            "Another way of integrating risk is to manage exposures. IQS considers it reasonable to ensure that portfolios are not heavily exposed to the risk of scoring much worse from an ESG perspective relative to their respective universes. The key point from the investment team’s perspective is guarding against a risk that historically has been relatively small but may be material in the future. IQS believe that this step is key in ESG integration – the inclusion in the risk model would not have had a noticeable impact until after the risk materialised. Therefore, during the portfolio construction process it is ensured via constraints that the portfolio has at least the minimum, or even a better, ESG exposure than the benchmark. \n",
            "IQS employs a fully integrated ESG investment process in managing client portfolios. This is built on longstanding experience in customised ESG solutions, active engagement with companies and the Invesco proxy voting approach. Having incorporated proprietary aspects of governance for many years (“Quality” factor), IQS additionally enhanced its risk management by introducing a dedicated ESG exposure control for all portfolios as well as an adverse ESG momentum measure to restrict certain companies. \n",
            "========================================================================\n"
          ]
        }
      ]
    }
  ]
}